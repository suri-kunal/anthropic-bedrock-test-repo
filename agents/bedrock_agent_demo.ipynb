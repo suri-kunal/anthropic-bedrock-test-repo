{
  "cells": [
    {
      "cell_type": "code",
      "execution_count": null,
      "metadata": {
        "vscode": {
          "languageId": "plaintext"
        }
      },
      "outputs": [],
      "source": [
        "# AWS Bedrock Agent Demo\n",
        "\n",
        "This notebook demonstrates the migrated agent using AWS Bedrock Converse API instead of the Anthropic API.\n",
        "\n",
        "## Features:\n",
        "- Uses AWS Bedrock Converse API\n",
        "- Supports Claude 3.7/4 models with reasoning capabilities\n",
        "- Text, image, and document input support\n",
        "- **Chat functionality** with ongoing conversations and context memory\n",
        "- Document upload: txt, md, json, csv, xml, yaml files (up to 5 files, 4.5MB each)\n",
        "- Mixed content analysis (images + documents together)\n",
        "- Interactive terminal chat with file upload commands\n",
        "- Chat history management and export\n",
        "- No tools/MCP dependencies\n",
        "\n",
        "## Prerequisites:\n",
        "- AWS credentials configured (via AWS CLI, environment variables, or IAM role)\n",
        "- Access to Bedrock models in your AWS account\n",
        "- boto3 package installed\n"
      ]
    },
    {
      "cell_type": "code",
      "execution_count": null,
      "metadata": {},
      "outputs": [],
      "source": [
        "import os\n",
        "import sys\n",
        "import nest_asyncio\n",
        "nest_asyncio.apply()\n",
        "\n",
        "# Add parent directory to path\n",
        "parent_dir = os.path.dirname(os.getcwd())\n",
        "sys.path.insert(0, parent_dir)\n",
        "\n",
        "from agents.agent import Agent, ModelConfig\n"
      ]
    },
    {
      "cell_type": "code",
      "execution_count": null,
      "metadata": {},
      "outputs": [],
      "source": [
        "## 1. Basic Text Conversation with Reasoning\n"
      ]
    },
    {
      "cell_type": "code",
      "execution_count": null,
      "metadata": {},
      "outputs": [],
      "source": [
        "# Create agent with Claude 3.7 Sonnet and reasoning enabled\n",
        "agent = Agent(\n",
        "    name=\"Bedrock Agent\",\n",
        "    system=\"You are a helpful AI assistant powered by AWS Bedrock. Use step-by-step reasoning for complex problems.\",\n",
        "    config=ModelConfig(\n",
        "        model=\"anthropic.claude-3-7-sonnet-20250219-v1:0\",  # Claude 3.7 Sonnet\n",
        "        max_tokens=4096,\n",
        "        temperature=0.7,\n",
        "        enable_reasoning=True,  # Enable reasoning capabilities\n",
        "        reasoning_budget_tokens=2000  # Budget for reasoning process\n",
        "    ),\n",
        "    region=\"us-east-1\",  # Change to your preferred region\n",
        "    verbose=True,\n",
        "    show_reasoning=True  # Show reasoning output in verbose mode\n",
        ")\n",
        "\n",
        "print(\"Agent with reasoning capabilities initialized successfully!\")\n"
      ]
    },
    {
      "cell_type": "code",
      "execution_count": null,
      "metadata": {},
      "outputs": [],
      "source": [
        "# Complex reasoning problem\n",
        "response = agent.run(\"\"\"\n",
        "A company has 150 employees across 3 departments:\n",
        "- Engineering: 60 employees earning $95k average\n",
        "- Sales: 50 employees earning $75k average  \n",
        "- Marketing: 40 employees earning $65k average\n",
        "\n",
        "They want to give a 12% raise to all employees, but their budget allows for only $1.8M total salary after raises.\n",
        "Can they afford this raise? Show your detailed calculations and reasoning.\n",
        "\"\"\")\n",
        "\n",
        "# The reasoning and final answer will be displayed above due to verbose=True and show_reasoning=True\n"
      ]
    },
    {
      "cell_type": "code",
      "execution_count": null,
      "metadata": {},
      "outputs": [],
      "source": [
        "## 1.1. Programmatic Access to Reasoning\n",
        "\n",
        "You can also access reasoning and final response separately for programmatic use:\n"
      ]
    },
    {
      "cell_type": "code",
      "execution_count": null,
      "metadata": {},
      "outputs": [],
      "source": [
        "# Create a quiet agent (no verbose output) for programmatic access\n",
        "quiet_agent = Agent(\n",
        "    name=\"Quiet Agent\",\n",
        "    system=\"You are a helpful AI assistant. Think step-by-step through problems.\",\n",
        "    config=ModelConfig(\n",
        "        model=\"anthropic.claude-3-7-sonnet-20250219-v1:0\",\n",
        "        enable_reasoning=True,\n",
        "        reasoning_budget_tokens=1500\n",
        "    ),\n",
        "    verbose=False  # No automatic output\n",
        ")\n",
        "\n",
        "# Get reasoning and response separately\n",
        "reasoning, final_response = quiet_agent.get_reasoning_and_response(\n",
        "    \"If I invest $10,000 at 7% annual interest compounded monthly, how much will I have after 5 years?\"\n",
        ")\n",
        "\n",
        "print(\"=== REASONING PROCESS ===\")\n",
        "print(reasoning if reasoning else \"No reasoning provided\")\n",
        "print(\"\\n=== FINAL ANSWER ===\") \n",
        "print(final_response)\n",
        "\n",
        "# Or get them individually\n",
        "print(\"\\n=== USING INDIVIDUAL METHODS ===\")\n",
        "reasoning_only = quiet_agent.get_reasoning_only(\"What's the square root of 2 to 10 decimal places?\")\n",
        "response_only = quiet_agent.get_response_only(\"What's the square root of 2 to 10 decimal places?\")\n",
        "\n",
        "print(f\"Reasoning only: {reasoning_only[:100] if reasoning_only else 'None'}...\")\n",
        "print(f\"Response only: {response_only}\")\n"
      ]
    },
    {
      "cell_type": "code",
      "execution_count": null,
      "metadata": {},
      "outputs": [],
      "source": [
        "## 2. Image Analysis with Reasoning\n",
        "\n",
        "Now let's demonstrate the image analysis capabilities combined with reasoning:\n"
      ]
    },
    {
      "cell_type": "code",
      "execution_count": null,
      "metadata": {},
      "outputs": [],
      "source": [
        "# Create a simple test image for demonstration\n",
        "import matplotlib.pyplot as plt\n",
        "import numpy as np\n",
        "\n",
        "# Create a sample chart\n",
        "fig, ax = plt.subplots(figsize=(8, 6))\n",
        "x = np.linspace(0, 10, 100)\n",
        "y = np.sin(x) * np.exp(-x/10)\n",
        "ax.plot(x, y, 'b-', linewidth=2, label='Damped Sine Wave')\n",
        "ax.set_xlabel('Time')\n",
        "ax.set_ylabel('Amplitude')\n",
        "ax.set_title('Sample Data Visualization')\n",
        "ax.legend()\n",
        "ax.grid(True, alpha=0.3)\n",
        "\n",
        "# Save the plot\n",
        "image_path = \"sample_chart.png\"\n",
        "plt.savefig(image_path, dpi=150, bbox_inches='tight')\n",
        "plt.show()\n",
        "\n",
        "print(f\"Sample chart saved as: {image_path}\")\n"
      ]
    },
    {
      "cell_type": "code",
      "execution_count": null,
      "metadata": {},
      "outputs": [],
      "source": [
        "# Analyze the image with reasoning\n",
        "image_response = agent.run(\n",
        "    \"Please analyze this chart step by step. What type of mathematical function does this appear to represent, and what are the key characteristics?\",\n",
        "    image_paths=[image_path]\n",
        ")\n",
        "\n",
        "# The reasoning and analysis will be displayed above due to verbose=True and show_reasoning=True\n"
      ]
    },
    {
      "cell_type": "code",
      "execution_count": null,
      "metadata": {},
      "outputs": [],
      "source": [
        "## 3. Document Analysis with Reasoning\n",
        "\n",
        "Now let's demonstrate document upload and analysis capabilities:\n"
      ]
    },
    {
      "cell_type": "code",
      "execution_count": null,
      "metadata": {},
      "outputs": [],
      "source": [
        "# Create sample documents for testing\n",
        "import json\n",
        "\n",
        "# Create a JSON data file\n",
        "data = {\n",
        "    \"employees\": [\n",
        "        {\"name\": \"Alice\", \"department\": \"Engineering\", \"salary\": 95000, \"experience\": 5},\n",
        "        {\"name\": \"Bob\", \"department\": \"Sales\", \"salary\": 75000, \"experience\": 3},\n",
        "        {\"name\": \"Carol\", \"department\": \"Marketing\", \"salary\": 65000, \"experience\": 2},\n",
        "        {\"name\": \"David\", \"department\": \"Engineering\", \"salary\": 105000, \"experience\": 8}\n",
        "    ],\n",
        "    \"company_budget\": 1800000,\n",
        "    \"proposed_raise\": 0.12\n",
        "}\n",
        "\n",
        "json_file = \"company_data.json\"\n",
        "with open(json_file, \"w\") as f:\n",
        "    json.dump(data, f, indent=2)\n",
        "\n",
        "# Create a markdown report\n",
        "md_content = \"\"\"# Company Analysis Report\n",
        "\n",
        "## Current Situation\n",
        "Our company has been experiencing growth and we're considering salary adjustments.\n",
        "\n",
        "## Key Metrics\n",
        "- Total employees: 150\n",
        "- Departments: Engineering, Sales, Marketing\n",
        "- Average tenure: 4.2 years\n",
        "- Current annual budget: $1.8M\n",
        "\n",
        "## Recommendations\n",
        "1. Conduct salary analysis by department\n",
        "2. Consider performance-based raises\n",
        "3. Review market rates for competitive positioning\n",
        "\n",
        "## Next Steps\n",
        "- Review individual performance\n",
        "- Calculate budget impact\n",
        "- Present proposal to board\n",
        "\"\"\"\n",
        "\n",
        "md_file = \"analysis_report.md\"\n",
        "with open(md_file, \"w\") as f:\n",
        "    f.write(md_content)\n",
        "\n",
        "print(f\"Created sample documents: {json_file}, {md_file}\")\n",
        "\n",
        "# Analyze the documents with reasoning\n",
        "doc_response = agent.run(\n",
        "    \"Please analyze these documents and provide recommendations for the salary raise proposal. Use step-by-step reasoning.\",\n",
        "    document_paths=[json_file, md_file]\n",
        ")\n",
        "\n",
        "# The reasoning and analysis will be displayed above due to verbose=True and show_reasoning=True\n"
      ]
    },
    {
      "cell_type": "code",
      "execution_count": null,
      "metadata": {},
      "outputs": [],
      "source": [
        "## 3.1. Document Convenience Methods\n"
      ]
    },
    {
      "cell_type": "code",
      "execution_count": null,
      "metadata": {},
      "outputs": [],
      "source": [
        "# Document convenience methods\n",
        "print(\"=== Single Document Analysis ===\")\n",
        "single_doc_response = agent.add_document_from_file(\n",
        "    json_file,\n",
        "    \"Summarize the key information in this employee data file\"\n",
        ")\n",
        "print(\"Single document analysis completed.\\n\")\n",
        "\n",
        "print(\"=== Multiple Documents Analysis ===\")\n",
        "multi_doc_response = agent.add_documents_from_files(\n",
        "    [json_file, md_file],\n",
        "    \"Compare the data in these files and identify any discrepancies\"\n",
        ")\n",
        "print(\"Multiple documents analysis completed.\\n\")\n",
        "\n",
        "print(\"=== Mixed Content: Image + Documents ===\")\n",
        "mixed_response = agent.add_mixed_files(\n",
        "    \"Analyze this chart and the company documents together. How does the mathematical pattern relate to business planning?\",\n",
        "    image_paths=[image_path],\n",
        "    document_paths=[json_file]\n",
        ")\n",
        "print(\"Mixed content analysis completed.\")\n"
      ]
    },
    {
      "cell_type": "code",
      "execution_count": null,
      "metadata": {},
      "outputs": [],
      "source": [
        "## 4. Chat Functionality\n",
        "\n",
        "Now let's demonstrate the chat capabilities for ongoing conversations:\n"
      ]
    },
    {
      "cell_type": "code",
      "execution_count": null,
      "metadata": {},
      "outputs": [],
      "source": [
        "# Create a chat agent (less verbose for cleaner conversation)\n",
        "chat_agent = Agent(\n",
        "    name=\"Chat Agent\",\n",
        "    system=\"You are a helpful AI assistant. Be conversational and remember our discussion context.\",\n",
        "    config=ModelConfig(\n",
        "        model=\"anthropic.claude-3-7-sonnet-20250219-v1:0\",\n",
        "        enable_reasoning=True,\n",
        "        reasoning_budget_tokens=1000  # Lower budget for faster chat\n",
        "    ),\n",
        "    verbose=False  # Less verbose for cleaner chat\n",
        ")\n",
        "\n",
        "print(\"🤖 Chat agent created! Let's have a conversation...\")\n",
        "\n",
        "# Start a conversation\n",
        "response1 = chat_agent.chat(\"Hi! I'm working on a Python project about data analysis.\")\n",
        "print(\"🤖:\", response1[\"output\"][\"message\"][\"content\"][0][\"text\"])\n",
        "\n",
        "# Continue the conversation - the agent remembers context\n",
        "response2 = chat_agent.chat(\"What are some good libraries I should consider?\")\n",
        "print(\"\\n🤖:\", response2[\"output\"][\"message\"][\"content\"][0][\"text\"])\n",
        "\n",
        "# Continue with more specific question\n",
        "response3 = chat_agent.chat(\"I'm specifically working with financial data. Which of those would be best?\")\n",
        "print(\"\\n🤖:\", response3[\"output\"][\"message\"][\"content\"][0][\"text\"])\n"
      ]
    },
    {
      "cell_type": "code",
      "execution_count": null,
      "metadata": {},
      "outputs": [],
      "source": [
        "# Continue the chat by adding files\n",
        "# First, let's reuse our previous files\n",
        "print(\"\\n📄 Adding a document to the ongoing conversation...\")\n",
        "\n",
        "# The agent remembers the context about financial data analysis\n",
        "response4 = chat_agent.chat_with_files(\n",
        "    \"Here's some sample data I'm working with. Can you help me analyze it in the context of our discussion?\",\n",
        "    document_paths=[json_file]\n",
        ")\n",
        "print(\"🤖:\", response4[\"output\"][\"message\"][\"content\"][0][\"text\"])\n",
        "\n",
        "# Add an image to the same conversation\n",
        "print(\"\\n🖼️ Adding an image to the same conversation...\")\n",
        "response5 = chat_agent.chat_with_files(\n",
        "    \"I also have this chart. How does it relate to the data file we just discussed?\",\n",
        "    image_paths=[image_path]\n",
        ")\n",
        "print(\"🤖:\", response5[\"output\"][\"message\"][\"content\"][0][\"text\"])\n"
      ]
    },
    {
      "cell_type": "code",
      "execution_count": null,
      "metadata": {},
      "outputs": [],
      "source": [
        "# Chat history management\n",
        "print(\"\\n📜 Chat History Features:\")\n",
        "print(f\"Number of messages in conversation: {len(chat_agent.get_chat_history())}\")\n",
        "\n",
        "# Print the chat history\n",
        "chat_agent.print_chat_history()\n",
        "\n",
        "# Export chat history\n",
        "history_file = chat_agent.export_chat_history(\"demo_chat_history.json\")\n",
        "\n",
        "print(f\"\\n🔄 You can also clear the history and start fresh:\")\n",
        "print(\"chat_agent.clear_chat_history()\")\n",
        "\n",
        "print(f\"\\n💡 For interactive terminal chat, use:\")\n",
        "print(\"chat_agent.start_interactive_chat()\")\n",
        "print(\"(This would start an interactive session with commands like /image, /doc, /history, etc.)\")\n"
      ]
    },
    {
      "cell_type": "code",
      "execution_count": null,
      "metadata": {},
      "outputs": [],
      "source": [
        "## 5. Cleanup\n"
      ]
    },
    {
      "cell_type": "code",
      "execution_count": null,
      "metadata": {},
      "outputs": [],
      "source": [
        "# Clean up demo files\n",
        "import os\n",
        "\n",
        "files_to_clean = [image_path, json_file, md_file, \"demo_chat_history.json\"]\n",
        "\n",
        "for file_path in files_to_clean:\n",
        "    if os.path.exists(file_path):\n",
        "        os.remove(file_path)\n",
        "        print(f\"Removed: {file_path}\")\n",
        "\n",
        "print(\"\\nDemo completed successfully! All test files cleaned up.\")\n"
      ]
    }
  ],
  "metadata": {
    "language_info": {
      "name": "python"
    }
  },
  "nbformat": 4,
  "nbformat_minor": 2
}
